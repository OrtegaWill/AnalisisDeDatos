{
 "cells": [
  {
   "cell_type": "code",
   "execution_count": 4,
   "id": "95100274",
   "metadata": {},
   "outputs": [
    {
     "name": "stdout",
     "output_type": "stream",
     "text": [
      "Hola mundo 3\n"
     ]
    }
   ],
   "source": [
    "print('Hola mundo 3')"
   ]
  },
  {
   "cell_type": "code",
   "execution_count": null,
   "id": "ad9fba13",
   "metadata": {},
   "outputs": [],
   "source": [
    "#Etapa 1\n",
    "print('Hola mundo 4') # comentario\n"
   ]
  },
  {
   "cell_type": "code",
   "execution_count": 1,
   "id": "6914a286",
   "metadata": {},
   "outputs": [
    {
     "name": "stdout",
     "output_type": "stream",
     "text": [
      "El elemento 50 está en la lista.\n"
     ]
    }
   ],
   "source": [
    "def buscar_elemento(elemento):\n",
    "\tlista = list(range(1, 101))\n",
    "\tif elemento in lista:\n",
    "\t\treturn f\"El elemento {elemento} está en la lista.\"\n",
    "\telse:\n",
    "\t\treturn f\"El elemento {elemento} NO está en la lista.\"\n",
    "\t\n",
    "elemento = buscar_elemento(50)\n",
    "print(elemento)"
   ]
  }
 ],
 "metadata": {
  "kernelspec": {
   "display_name": "Python 3",
   "language": "python",
   "name": "python3"
  },
  "language_info": {
   "codemirror_mode": {
    "name": "ipython",
    "version": 3
   },
   "file_extension": ".py",
   "mimetype": "text/x-python",
   "name": "python",
   "nbconvert_exporter": "python",
   "pygments_lexer": "ipython3",
   "version": "3.12.1"
  }
 },
 "nbformat": 4,
 "nbformat_minor": 5
}
